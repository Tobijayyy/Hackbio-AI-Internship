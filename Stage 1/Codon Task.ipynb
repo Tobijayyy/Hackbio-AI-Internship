{
 "cells": [
  {
   "cell_type": "code",
   "execution_count": 5,
   "id": "3d4d69fa-9b5d-4328-a053-47c1baa525bc",
   "metadata": {},
   "outputs": [
    {
     "name": "stdout",
     "output_type": "stream",
     "text": [
      "MRP**\n"
     ]
    }
   ],
   "source": [
    "# Converting DNA sequence is in uppercase\n",
    "seq = ''\n",
    "seq = seq.upper()\n",
    "\n",
    "# Making the codon dictionary\n",
    "gencode = {\n",
    "    'ATA':'I', 'ATC':'I', 'ATT':'I', 'ATG':'M',\n",
    "    'ACA':'T', 'ACC':'T', 'ACG':'T', 'ACT':'T',\n",
    "    'AAC':'N', 'AAT':'N', 'AAA':'K', 'AAG':'K',\n",
    "    'AGC':'S', 'AGT':'S', 'AGA':'R', 'AGG':'R',\n",
    "    'CTA':'L', 'CTC':'L', 'CTG':'L', 'CTT':'L',\n",
    "    'CCA':'P', 'CCC':'P', 'CCG':'P', 'CCT':'P',\n",
    "    'CAC':'H', 'CAT':'H', 'CAA':'Q', 'CAG':'Q',\n",
    "    'CGA':'R', 'CGC':'R', 'CGG':'R', 'CGT':'R',\n",
    "    'GTA':'V', 'GTC':'V', 'GTG':'V', 'GTT':'V',\n",
    "    'GCA':'A', 'GCC':'A', 'GCG':'A', 'GCT':'A',\n",
    "    'GAC':'D', 'GAT':'D', 'GAA':'E', 'GAG':'E',\n",
    "    'GGA':'G', 'GGC':'G', 'GGG':'G', 'GGT':'G',\n",
    "    'TCA':'S', 'TCC':'S', 'TCG':'S', 'TCT':'S',\n",
    "    'TTC':'F', 'TTT':'F', 'TTA':'L', 'TTG':'L',\n",
    "    'TAC':'Y', 'TAT':'Y', 'TAA':'*', 'TAG':'*',\n",
    "    'TGC':'C', 'TGT':'C', 'TGA':'*', 'TGG':'W'\n",
    "}\n",
    "\n",
    "# Function to translate a single frame\n",
    "def translate_frame(seq):\n",
    "    protein = \"\"  # Initialize protein sequence\n",
    "    for i in range(0, len(seq) - 2, 3):  # Process in codon (triplet) increments\n",
    "        codon = seq[i:i + 3]\n",
    "        protein += gencode.get(codon, '?')  # '?' for unknown codons\n",
    "    return protein\n",
    "    \n",
    "    # Computing forward reading frames\n",
    "    f1 = translate_frame(seq[0:])\n",
    "    f2 = translate_frame(seq[1:])\n",
    "    f3 = translate_frame(seq[2:])\n",
    "    \n",
    "    # Reversing the sequence for reverse frames\n",
    "    reverse_seq = seq[::-1]  # Reverse the DNA sequence\n",
    "    \n",
    "    # Computing reverse reading frames\n",
    "    r1 = translate_frame(reverse_seq[0:])\n",
    "    r2 = translate_frame(reverse_seq[1:])\n",
    "    r3 = translate_frame(reverse_seq[2:])\n",
    "    \n",
    "    # Returning results in a dictionary\n",
    "    return {\n",
    "        'f1': f1,\n",
    "        'f2': f2,\n",
    "        'f3': f3,\n",
    "        'r1': r1,\n",
    "        'r2': r2,\n",
    "        'r3': r3\n",
    "    }\n",
    "# Testing the code\n",
    "sequence = \"ATGCGACCTTGATAG\"\n",
    "protein_translations = translate_frame(sequence)\n",
    "print(protein_translations)"
   ]
  }
 ],
 "metadata": {
  "kernelspec": {
   "display_name": "Python 3 (ipykernel)",
   "language": "python",
   "name": "python3"
  },
  "language_info": {
   "codemirror_mode": {
    "name": "ipython",
    "version": 3
   },
   "file_extension": ".py",
   "mimetype": "text/x-python",
   "name": "python",
   "nbconvert_exporter": "python",
   "pygments_lexer": "ipython3",
   "version": "3.9.7"
  }
 },
 "nbformat": 4,
 "nbformat_minor": 5
}
