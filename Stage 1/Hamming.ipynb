{
 "cells": [
  {
   "cell_type": "code",
   "execution_count": null,
   "id": "8804027b-8d86-40ef-95a2-c035c52d9658",
   "metadata": {},
   "outputs": [],
   "source": []
  },
  {
   "cell_type": "code",
   "execution_count": 2,
   "id": "92fb0346-de6f-4b25-b177-22806cab1789",
   "metadata": {},
   "outputs": [],
   "source": [
    "# Setting the vriables\n",
    "twitter = '__tobijayyy'\n",
    "slack = 'tobijayyy'\n",
    "\n",
    "def calc_hd(twitter, slack):\n",
    "    # Creating a counter for the number of mismatches and printing the number of mismatches\n",
    "    diff = 0\n",
    "    for i, j in zip(twitter, slack):\n",
    "        if i != j:\n",
    "            diff += 1\n",
    "    return diff"
   ]
  },
  {
   "cell_type": "code",
   "execution_count": 3,
   "id": "f2312b1b-bbd3-4b69-82f6-93fb7654e695",
   "metadata": {},
   "outputs": [
    {
     "data": {
      "text/plain": [
       "8"
      ]
     },
     "execution_count": 3,
     "metadata": {},
     "output_type": "execute_result"
    }
   ],
   "source": [
    "calc_hd(twitter, slack)"
   ]
  }
 ],
 "metadata": {
  "kernelspec": {
   "display_name": "Python 3 (ipykernel)",
   "language": "python",
   "name": "python3"
  },
  "language_info": {
   "codemirror_mode": {
    "name": "ipython",
    "version": 3
   },
   "file_extension": ".py",
   "mimetype": "text/x-python",
   "name": "python",
   "nbconvert_exporter": "python",
   "pygments_lexer": "ipython3",
   "version": "3.9.7"
  }
 },
 "nbformat": 4,
 "nbformat_minor": 5
}
